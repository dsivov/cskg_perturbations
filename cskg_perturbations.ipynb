{
 "cells": [
  {
   "cell_type": "code",
   "execution_count": null,
   "metadata": {
    "colab": {
     "base_uri": "https://localhost:8080/"
    },
    "execution": {
     "iopub.execute_input": "2022-07-17T10:24:26.242295Z",
     "iopub.status.busy": "2022-07-17T10:24:26.241950Z",
     "iopub.status.idle": "2022-07-17T10:24:58.681360Z",
     "shell.execute_reply": "2022-07-17T10:24:58.680323Z",
     "shell.execute_reply.started": "2022-07-17T10:24:26.242270Z"
    },
    "id": "sBr9qClKt4pQ",
    "outputId": "4e574a27-480e-431f-996e-66c6e9c86b74"
   },
   "outputs": [
    {
     "ename": "",
     "evalue": "",
     "output_type": "error",
     "traceback": [
      "\u001b[1;31mRunning cells with 'Python 3.9.12 ('base': conda)' requires ipykernel package.\n",
      "\u001b[1;31mRun the following command to install 'ipykernel' into the Python environment. \n",
      "\u001b[1;31mCommand: 'conda install -n base ipykernel --update-deps --force-reinstall'"
     ]
    }
   ],
   "source": [
    "!pip install faiss-gpu\n",
    "!pip install sentence_transformers\n",
    "!wget http://74.82.28.99:9000/cskg/data.tgz\n",
    "!tar -zxvf data.tgz"
   ]
  },
  {
   "cell_type": "code",
   "execution_count": 1,
   "metadata": {
    "colab": {
     "base_uri": "https://localhost:8080/"
    },
    "id": "7XzLrp6_uzWO",
    "outputId": "cac72fd3-4881-4afa-9728-daad4a457f06"
   },
   "outputs": [
    {
     "name": "stdout",
     "output_type": "stream",
     "text": [
      "/notebooks/cskg\n"
     ]
    }
   ],
   "source": [
    "\n",
    "!pwd"
   ]
  },
  {
   "cell_type": "markdown",
   "metadata": {
    "id": "QCd0aV5KAf1S"
   },
   "source": [
    "If you want to re-index embeddings. run build_index_db()"
   ]
  },
  {
   "cell_type": "code",
   "execution_count": 2,
   "metadata": {
    "id": "CbW2TLDWt4pT",
    "tags": []
   },
   "outputs": [],
   "source": [
    "from functools import partial\n",
    "import pickle\n",
    "import re\n",
    "from secrets import randbelow\n",
    "from typing import Callable, List, Tuple\n",
    "import csv\n",
    "\n",
    "import faiss\n",
    "import numpy as np\n",
    "from tqdm import tqdm\n",
    "from sentence_transformers import SentenceTransformer\n",
    "\n",
    "class Vocab:\n",
    "    def __init__(self, words) -> None:\n",
    "        self.idx_to_word = words\n",
    "        self.word_to_idx = {word: idx for idx, word in enumerate(words)}"
   ]
  },
  {
   "cell_type": "code",
   "execution_count": 4,
   "metadata": {
    "id": "6GgUpDRYt4pU",
    "tags": []
   },
   "outputs": [],
   "source": [
    "class CSKG_EMBEDDINGS():\n",
    "    \n",
    "    def __init__(self) -> None:\n",
    "        print(\"init\")\n",
    "        #self.embedding_file = 'cskg_embeddings.csv'\n",
    "        self.model = SentenceTransformer('all-mpnet-base-v2')\n",
    "    \n",
    "    def read_embedding_file(self, file) -> Tuple[Vocab, np.ndarray]:\n",
    "        with open(file, 'r') as f:\n",
    "            vector_dim = len(next(f).split(\",\\\"\")[1].split(','))\n",
    "            file_len = len(f.readlines())\n",
    "            shape = tuple([file_len + 1,vector_dim])\n",
    "            print(shape)\n",
    "            embeddings = np.zeros(shape, dtype=np.float32)\n",
    "        with open(self.embedding_file, 'r') as d:\n",
    "            words = []\n",
    "            for i, line in tqdm(enumerate(d), total=shape[0]):\n",
    "                embedding = line.split(\"text_embedding,\")[1].split(\"\\\"\")[1].split(',')\n",
    "                word = line.split(\"text_embedding,\")[0].split(\",\")[0]\n",
    "                embedding = np.array([float(x) for x in embedding])\n",
    "                words.append(word)\n",
    "                embeddings[i] = embedding\n",
    "        self.words = words\n",
    "        vocab = Vocab(words)\n",
    "        \n",
    "        return (vocab, embeddings)\n",
    "\n",
    "\n",
    "    def build_index_db(self, metric: str, embeddings: np.ndarray, vocab):\n",
    "\n",
    "        if metric == 'cosine':\n",
    "            index = faiss.IndexFlatIP(embeddings.shape[-1])\n",
    "        elif metric == 'l2':\n",
    "            index = faiss.IndexFlatL2(embeddings.shape[-1])\n",
    "        else:\n",
    "            raise ValueError(f'Bad metric: {metric}')\n",
    "        index.add(embeddings)\n",
    "        faiss.write_index(index,\"data/vector.index\")  # save the index to disk\n",
    "        self.vocab = vocab\n",
    "        self.index = index\n",
    "\n",
    "        with open(\"data/vocab.pic\", 'wb') as f:\n",
    "                pickle.dump(vocab, f, protocol=4)\n",
    "        csv.field_size_limit(512000)\n",
    "        rel = []\n",
    "        with open(\"data/cskg_sentences1.tsv\") as file:\n",
    "            tsv_file = csv.reader(file, delimiter=\"\\t\")\n",
    "            for line in tsv_file:\n",
    "                rel.append(line[3])\n",
    "        with open(\"data/relations.pic\", 'wb') as f:\n",
    "            pickle.dump(rel, f, protocol=4)\n",
    "    \n",
    "    def load_index_db(self):\n",
    "        with open(\"data/vocab.pic\", 'rb') as f:\n",
    "            self.vocab = pickle.load(f)\n",
    "        with open(\"data/relations.pic\", 'rb') as f:\n",
    "            self.relations = pickle.load(f)\n",
    "        self.index = faiss.read_index(\"data/vector.index\")\n",
    "        # print(\"VOCAB LOADED, size: \", len(self.vocab.))\n",
    "        # print(\"RELATIONS LOADED, size: \", len(self.relations))\n",
    "        print(\"INDEX Loaded\")\n",
    "    \n",
    "    def parse_relations(self, rel):\n",
    "        isa_relations = []\n",
    "        description_relations = []\n",
    "        property_values_relations = []\n",
    "        for  relations in rel.split('+'):\n",
    "            if 'isa' in relations:\n",
    "                isa_relations = relations.split('->')[0].split('isa(')\n",
    "            if 'description(' in relations:\n",
    "                description_relations = relations.split('->')[0].split('description(')\n",
    "            if 'property_values(' in relations:\n",
    "                property_values_relations = relations.split('->')[0].split('property_values(')\n",
    "            #print(relations)\n",
    "            if (len(isa_relations) > 0):\n",
    "                for isa in isa_relations[1].split(','):\n",
    "                    print(\"----------->ISA \",isa)\n",
    "            if (len(description_relations) > 0):\n",
    "                for desc in description_relations[1].split(','):\n",
    "                    print(\"------------>DR \",desc)\n",
    "            if (len(property_values_relations) > 0):\n",
    "                for pv in property_values_relations[1].split(','):\n",
    "                    print(\"----------->PVR \",pv)\n",
    "        #input()\n",
    "    \n",
    "    def query_for_events(self, query, topk):\n",
    "        query = \"It a at:\" + query.replace(\" \", \" at:\")\n",
    "        print(query)\n",
    "        query=np.array([self.model.encode(query)])\n",
    "        #faiss.normalize_L2(query)\n",
    "        scores, candidate_ids = self.index.search(query, topk)\n",
    "        scores = scores.flatten()\n",
    "        candidate_ids = candidate_ids.flatten()\n",
    "        top_k_indices = np.argsort(scores)[:topk]\n",
    "        scores = scores[top_k_indices]\n",
    "        candidate_ids = candidate_ids[top_k_indices]\n",
    "        \n",
    "        for candidate_id, score in zip(np.nditer(candidate_ids), np.nditer(scores)):\n",
    "            candidate = self.vocab.idx_to_word[candidate_id]\n",
    "            relation = self.relations[candidate_id]\n",
    "            # print(candidate, relation)\n",
    "            # print(candidate[0:5])\n",
    "            # if qtype == 'at' and candidate[0:3] == 'at:':\n",
    "            #     print(\"Candidate: \",candidate, score)\n",
    "            #     relation = relation.replace('\\\\\\'','')\n",
    "            #     cskg_emb.parse_relations(relation)\n",
    "            #if qtype == 'cn' and candidate[0:5] == '/c/en':\n",
    "            print(\"Candidate: \",candidate, score)\n",
    "            relation = relation.replace('\\\\\\'','')\n",
    "            self.parse_relations(relation)\n",
    "\n",
    "    def query_for_concepts(self, query, topk):\n",
    "        query = \"It is a /c/en/\" + query.replace(\" \", \" /c/en/\")\n",
    "        print(query)\n",
    "        query=np.array([self.model.encode(query)])\n",
    "        #faiss.normalize_L2(query)\n",
    "        scores, candidate_ids = self.index.search(query, topk)\n",
    "        scores = scores.flatten()\n",
    "        candidate_ids = candidate_ids.flatten()\n",
    "        top_k_indices = np.argsort(scores)[:topk]\n",
    "        scores = scores[top_k_indices]\n",
    "        candidate_ids = candidate_ids[top_k_indices]\n",
    "        \n",
    "        for candidate_id, score in zip(np.nditer(candidate_ids), np.nditer(scores)):\n",
    "            candidate = self.vocab.idx_to_word[candidate_id]\n",
    "            relation = self.relations[candidate_id]\n",
    "            # print(candidate, relation)\n",
    "            # print(candidate[0:5])\n",
    "            # if qtype == 'at' and candidate[0:3] == 'at:':\n",
    "            #     print(\"Candidate: \",candidate, score)\n",
    "            #     relation = relation.replace('\\\\\\'','')\n",
    "            #     cskg_emb.parse_relations(relation)\n",
    "            #if qtype == 'cn' and candidate[0:5] == '/c/en':\n",
    "            print(\"Candidate: \",candidate, score)\n",
    "            relation = relation.replace('\\\\\\'','')\n",
    "            self.parse_relations(relation)"
   ]
  },
  {
   "cell_type": "code",
   "execution_count": 5,
   "metadata": {
    "colab": {
     "base_uri": "https://localhost:8080/"
    },
    "id": "9x3xapart4pX",
    "outputId": "5a9c1e32-06e8-49bf-e7c6-dd4920e71d6d",
    "tags": []
   },
   "outputs": [
    {
     "name": "stdout",
     "output_type": "stream",
     "text": [
      "init\n",
      "INDEX Loaded\n"
     ]
    }
   ],
   "source": [
    "cskg_emb = CSKG_EMBEDDINGS()\n",
    "cskg_emb.load_index_db()"
   ]
  },
  {
   "cell_type": "markdown",
   "metadata": {
    "id": "Yl7TYk2A9ngR"
   },
   "source": [
    "Run \"Events\" Query"
   ]
  },
  {
   "cell_type": "code",
   "execution_count": 12,
   "metadata": {
    "colab": {
     "base_uri": "https://localhost:8080/"
    },
    "id": "0y_dTI1xt4pX",
    "outputId": "916209cd-bb34-4382-dc7a-06fd8e4f02d9",
    "tags": []
   },
   "outputs": [
    {
     "name": "stdout",
     "output_type": "stream",
     "text": [
      "It a at:boat at:in at:the at:sea\n",
      "Candidate:  at:personx_drops_anchor 0.7336569\n",
      "----------->PVR  at:xAttr /c/en/active\n",
      "----------->PVR  at:xAttr /c/en/clumsy\n",
      "----------->PVR  at:xAttr /c/en/dominant\n",
      "----------->PVR  at:xAttr /c/en/noisy\n",
      "----------->PVR  at:xAttr /c/en/responsible\n",
      "----------->PVR  at:xAttr /c/en/willful\n",
      "----------->PVR  at:xEffect at:person_x_brings_anchor_back_up\n",
      "----------->PVR  at:xEffect at:person_x_rests\n",
      "----------->PVR  at:xEffect at:they_jump_onto_the_jetty_and_tie_the_boat_up\n",
      "----------->PVR  at:xEffect at:they_steady_the_boat_to_get_off\n",
      "----------->PVR  at:xEffect at:they_turn_the_boat_engine_off\n",
      "----------->PVR  at:xEffect at:to_board_land\n",
      "----------->PVR  at:xEffect at:to_secure_boat\n",
      "----------->PVR  at:xIntent at:to_slow_a_boat\n",
      "----------->PVR  at:xNeed at:go_signal_from_superior\n",
      "----------->PVR  at:xNeed at:to_be_on_a_boat\n",
      "----------->PVR  at:xNeed at:to_be_on_a_watercraft\n",
      "----------->PVR  at:xNeed at:to_make_sure_it_is_safe\n",
      "----------->PVR  at:xReact /c/en/helpful\n",
      "----------->PVR  at:xWant at:check_anchor_is_working\n",
      "----------->PVR  at:xWant at:report_to_his_superior\n",
      "----------->PVR  at:xWant at:to_fish\n",
      "----------->PVR  at:xWant at:to_relax\n",
      "Candidate:  /c/en/ship 0.7630687\n",
      "----------->ISA  /c/en/artifact\n",
      "----------->ISA  /c/en/bigger_than_truck\n",
      "----------->ISA  /c/en/boat/n\n",
      "----------->ISA  /c/en/large_seagoing_vessel\n",
      "----------->ISA  /c/en/much_heavier_than_car\n",
      "----------->ISA  /c/en/real_spce_ship\n",
      "----------->ISA  /c/en/vehicle\n",
      "----------->ISA  /c/en/water_borne_vessel\n",
      "----------->ISA  /c/en/watercraft/n\n",
      "----------->ISA  /c/en/artifact\n",
      "----------->ISA  /c/en/bigger_than_truck\n",
      "----------->ISA  /c/en/boat/n\n",
      "----------->ISA  /c/en/large_seagoing_vessel\n",
      "----------->ISA  /c/en/much_heavier_than_car\n",
      "----------->ISA  /c/en/real_spce_ship\n",
      "----------->ISA  /c/en/vehicle\n",
      "----------->ISA  /c/en/water_borne_vessel\n",
      "----------->ISA  /c/en/watercraft/n\n",
      "----------->PVR  /r/AtLocation /c/en/ocean\n",
      "----------->PVR  /r/AtLocation /c/en/port\n",
      "----------->PVR  /r/CapableOf /c/en/course_before_wind\n",
      "----------->PVR  /r/CapableOf /c/en/fair_storm\n",
      "----------->PVR  /r/CapableOf /c/en/go_across_sea\n",
      "----------->PVR  /r/CapableOf /c/en/heading_east\n",
      "----------->PVR  /r/CapableOf /c/en/hold_cargo\n",
      "----------->PVR  /r/CapableOf /c/en/journey_around_horn\n",
      "----------->PVR  /r/CapableOf /c/en/list_to_one_side\n",
      "----------->PVR  /r/CapableOf /c/en/list_to_port\n",
      "----------->PVR  /r/CapableOf /c/en/list_to_starboard\n",
      "----------->PVR  /r/CapableOf /c/en/near_island\n",
      "----------->PVR  /r/CapableOf /c/en/near_shore\n",
      "----------->PVR  /r/CapableOf /c/en/run_aground\n",
      "----------->PVR  /r/CapableOf /c/en/sail_on_sea\n",
      "----------->PVR  /r/CapableOf /c/en/swim_on_water\n",
      "----------->PVR  /r/CapableOf /c/en/travel_over_water\n",
      "----------->PVR  /r/CapableOf /c/en/weather_storm\n",
      "----------->PVR  /r/CapableOf /c/en/winter_at_port\n",
      "----------->PVR  /r/UsedFor /c/en/sailing\n",
      "----------->PVR  /r/UsedFor /c/en/voyage\n",
      "Candidate:  at:personx_takes_personx's_boat 0.767686\n",
      "----------->PVR  at:xAttr /c/en/adventurous\n",
      "----------->PVR  at:xAttr /c/en/boater\n",
      "----------->PVR  at:xAttr /c/en/brave\n",
      "----------->PVR  at:xAttr /c/en/marine\n",
      "----------->PVR  at:xAttr /c/en/sailor\n",
      "----------->PVR  at:xEffect at:gets_exercise_if_the_boat_has_no_motor_installed\n",
      "----------->PVR  at:xEffect at:gets_wet\n",
      "----------->PVR  at:xIntent /c/en/go_boating\n",
      "----------->PVR  at:xIntent at:to_go_fishing\n",
      "----------->PVR  at:xNeed at:find_the_boat\n",
      "----------->PVR  at:xNeed at:make_sure_the_boat_runs\n",
      "----------->PVR  at:xNeed at:to_gas_the_boat_up\n",
      "----------->PVR  at:xNeed at:to_get_permission\n",
      "----------->PVR  at:xNeed at:to_get_the_key\n",
      "----------->PVR  at:xNeed at:went_to_the_boating_place\n",
      "----------->PVR  at:xReact /c/en/relaxed\n",
      "----------->PVR  at:xReact /c/en/satisfied\n",
      "----------->PVR  at:xWant at:to_cruise_around_in_the_water\n",
      "----------->PVR  at:xWant at:to_go_fishing\n",
      "----------->PVR  at:xWant at:to_go_somewhere_with_boat\n",
      "----------->PVR  at:xWant at:to_return_the_keys\n",
      "----------->PVR  at:xWant at:to_sails_on_the_river_with_boat\n",
      "----------->PVR  at:xWant at:to_say_thank_you\n",
      "Candidate:  at:personx_owns_a_boat 0.77483976\n",
      "----------->PVR  at:xAttr /c/en/adventurous\n",
      "----------->PVR  at:xAttr /c/en/daring\n",
      "----------->PVR  at:xAttr /c/en/envied\n",
      "----------->PVR  at:xAttr /c/en/laid_back\n",
      "----------->PVR  at:xAttr /c/en/rich\n",
      "----------->PVR  at:xAttr /c/en/successful\n",
      "----------->PVR  at:xEffect at:drives_the_boat\n",
      "----------->PVR  at:xEffect at:maintains_the_boat\n",
      "----------->PVR  at:xEffect at:parks_the_boat_at_dock\n",
      "----------->PVR  at:xEffect at:put_gas_in_it\n",
      "----------->PVR  at:xEffect at:takes_it_on_the_water\n",
      "----------->PVR  at:xIntent at:to_enjoy_boating\n",
      "----------->PVR  at:xIntent at:to_spend_time_in_the_water\n",
      "----------->PVR  at:xNeed /c/en/money\n",
      "----------->PVR  at:xNeed at:to_buy_a_boat\n",
      "----------->PVR  at:xNeed at:to_go_to_the_boat_shop\n",
      "----------->PVR  at:xNeed at:to_have_purchased_one\n",
      "----------->PVR  at:xNeed at:to_learn_to_drive_a_boat\n",
      "----------->PVR  at:xNeed at:to_save_up_money\n",
      "----------->PVR  at:xReact /c/en/affluent\n",
      "----------->PVR  at:xReact /c/en/proud\n",
      "----------->PVR  at:xWant at:take_it_out\n",
      "----------->PVR  at:xWant at:to_clean_it\n",
      "----------->PVR  at:xWant at:to_go_boating\n",
      "----------->PVR  at:xWant at:to_go_sailing\n",
      "----------->PVR  at:xWant at:to_go_swimming\n",
      "----------->PVR  at:xWant at:to_go_to_the_lake\n",
      "----------->PVR  at:xWant at:to_go_yachting\n",
      "----------->PVR  at:xWant at:to_spend_time_at_the_beach\n",
      "Candidate:  /c/en/boater 0.80037403\n",
      "----------->ISA  /c/en/hat/n\n",
      "----------->ISA  /c/en/hat/n\n",
      "----------->PVR  /r/AtLocation /c/en/boat\n",
      "----------->PVR  /r/CapableOf /c/en/weight_boat_with_anchor\n",
      "Candidate:  at:personx_takes_the_boat 0.80555224\n",
      "----------->PVR  at:xAttr /c/en/confident\n",
      "----------->PVR  at:xAttr /c/en/mean\n",
      "----------->PVR  at:xAttr /c/en/rude\n",
      "----------->PVR  at:xAttr /c/en/seasick\n",
      "----------->PVR  at:xEffect at:becomes_wind_blown\n",
      "----------->PVR  at:xEffect at:comes_back_home_late_at_night\n",
      "----------->PVR  at:xEffect at:gets_drenched\n",
      "----------->PVR  at:xEffect at:reaches_his_destination_after_an_hour\n",
      "----------->PVR  at:xIntent at:to_go_fishing\n",
      "----------->PVR  at:xIntent at:to_go_out_on_the_water\n",
      "----------->PVR  at:xIntent at:to_travel_on_the_water\n",
      "----------->PVR  at:xNeed at:to_buy_the_boat_ticket\n",
      "----------->PVR  at:xNeed at:to_climb_into_it\n",
      "----------->PVR  at:xNeed at:to_go_near_the_boat\n",
      "----------->PVR  at:xNeed at:to_plan_a_trip\n",
      "----------->PVR  at:xReact /c/en/adventurous\n",
      "----------->PVR  at:xReact /c/en/content\n",
      "----------->PVR  at:xReact /c/en/happy\n",
      "----------->PVR  at:xWant at:to_cruise_to_hawaii\n",
      "----------->PVR  at:xWant at:to_go_fishing\n",
      "----------->PVR  at:xWant at:to_go_inside_the_sea\n",
      "----------->PVR  at:xWant at:to_see_the_fjords_of_norway\n",
      "Candidate:  at:personx_puts_the_____in_order 0.8129634\n",
      "----------->PVR  at:xAttr /c/en/fair\n",
      "----------->PVR  at:xAttr /c/en/insistent\n",
      "----------->PVR  at:xAttr /c/en/orderly\n",
      "----------->PVR  at:xAttr /c/en/powerful\n",
      "----------->PVR  at:xAttr /c/en/talented\n",
      "----------->PVR  at:xEffect at:cleans_the_interior_of_the_boat\n",
      "----------->PVR  at:xEffect at:eats_a_meal\n",
      "----------->PVR  at:xEffect at:socializes\n",
      "----------->PVR  at:xEffect at:wash_the_boat\n",
      "----------->PVR  at:xIntent at:to_help_the_people\n",
      "----------->PVR  at:xNeed at:to_find_the_various_parts\n",
      "----------->PVR  at:xNeed at:to_hather_the_files\n",
      "----------->PVR  at:xReact /c/en/delighted\n",
      "----------->PVR  at:xReact /c/en/glad\n",
      "----------->PVR  at:xWant at:to_catalog_the_pieces\n",
      "----------->PVR  at:xWant at:to_document_the_order\n",
      "----------->PVR  at:xWant at:to_enjoy_the_fruits_of_his_labor\n",
      "----------->PVR  at:xWant at:to_rest\n",
      "None\n"
     ]
    }
   ],
   "source": [
    "print(cskg_emb.query_for_events('boat in the sea', 7))"
   ]
  },
  {
   "cell_type": "code",
   "execution_count": 10,
   "metadata": {
    "colab": {
     "base_uri": "https://localhost:8080/"
    },
    "id": "rsHX5bh-t4pY",
    "outputId": "b93eab45-5f80-4b40-a5e9-9e7edd69683e",
    "tags": []
   },
   "outputs": [
    {
     "name": "stdout",
     "output_type": "stream",
     "text": [
      "It is a /c/en/boat_in_the_sea\n",
      "Candidate:  /c/en/pinnace 0.4705486\n",
      "----------->ISA  \\/c/en/ships_boat/n\\\"\n",
      "Candidate:  /c/en/dinghy 0.4705486\n",
      "----------->ISA  \\/c/en/ships_boat/n\\\"\n",
      "Candidate:  /c/en/longboat 0.4705486\n",
      "----------->ISA  \\/c/en/ships_boat/n\\\"\n",
      "Candidate:  /c/en/eight_person_inflatable_boat/n 0.531604\n",
      "----------->ISA  /c/en/inflatable_boat/n\n",
      "Candidate:  /c/en/three_person_inflatable_boat/n 0.531604\n",
      "----------->ISA  /c/en/inflatable_boat/n\n",
      "Candidate:  /c/en/zodiac_f470 0.5440282\n",
      "----------->ISA  /c/en/powered_rigid_inflatable_boat\n",
      "Candidate:  /c/en/sail_boat 0.54575664\n",
      "----------->ISA  /c/en/boat\n",
      "----------->ISA  /c/en/boat\n",
      "----------->PVR  /r/HasFirstSubevent /c/en/get_in_boat\n",
      "Candidate:  /c/en/german_submarine 0.54818875\n",
      "----------->ISA  /c/en/u_boat\n",
      "Candidate:  /c/en/harbor 0.56792694\n",
      "----------->ISA  /c/en/ore/n\n",
      "----------->ISA  /c/en/ore/n\n",
      "----------->PVR  /r/AtLocation /c/en/boat\n",
      "Candidate:  /c/en/canoeist/n/wn/person 0.5684298\n",
      "----------->ISA  /c/en/boat/v/wn/navigation\n",
      "----------->ISA  /c/en/boatman/n/wn/person\n",
      "----------->ISA  /c/en/boat/v/wn/navigation\n",
      "----------->ISA  /c/en/boatman/n/wn/person\n",
      "----------->PVR  /r/LocatedNear /c/en/indian_ocean/n/wn/object\n",
      "None\n"
     ]
    }
   ],
   "source": [
    "print(cskg_emb.query_for_concepts('boat_in_the_sea', 10))"
   ]
  },
  {
   "cell_type": "markdown",
   "metadata": {
    "id": "cwFRQqg69bPf"
   },
   "source": [
    "Run \"concepts\" query "
   ]
  },
  {
   "cell_type": "code",
   "execution_count": 9,
   "metadata": {
    "colab": {
     "base_uri": "https://localhost:8080/"
    },
    "id": "oOIhuoaZ75fI",
    "outputId": "a2497b6a-6d7c-4232-9adb-ee5175f671a0"
   },
   "outputs": [
    {
     "name": "stdout",
     "output_type": "stream",
     "text": [
      "It is a /c/en/george_washington\n",
      "Candidate:  /c/en/first_us_president 0.37781304\n",
      "----------->ISA  /c/en/george_washington\n",
      "Candidate:  /c/en/interstate_highway_system 0.5384255\n",
      "----------->ISA  \\/c/en/dwight_eisenhowers_legacy\\\"\n",
      "Candidate:  /c/en/national_academy_of_sciences 0.573247\n",
      "----------->ISA  /c/en/historic_place/n\n",
      "----------->ISA  /c/en/historic_place/n\n",
      "----------->PVR  /r/AtLocation /c/en/washington_d.c\n",
      "Candidate:  /c/en/washington_monument 0.6633189\n",
      "----------->ISA  /c/en/historic_place/n\n",
      "----------->ISA  /c/en/obelisk\n",
      "----------->ISA  /c/en/historic_place/n\n",
      "----------->ISA  /c/en/obelisk\n",
      "----------->PVR  /r/AtLocation /c/en/washington_d.c\n",
      "Candidate:  /c/en/abe_lincoln 0.6636475\n",
      "----------->ISA  /c/en/president_of_us\n",
      "Candidate:  /c/en/argentine_president/n 0.68949616\n",
      "----------->ISA  /c/en/national_president/n\n",
      "Candidate:  /c/en/battleground 0.69416463\n",
      "----------->ISA  /c/en/national_cemetery_in_washington_d.c\n",
      "Candidate:  /c/en/washington_state_song 0.70237666\n",
      "----------->ISA  /c/en/washington_home\n",
      "Candidate:  /c/en/defense_intelligence_agency 0.7146718\n",
      "----------->ISA  /c/en/government_agency/n\n",
      "----------->ISA  /c/en/government_agency/n\n",
      "----------->PVR  /r/AtLocation /c/en/washington_d.c\n",
      "Candidate:  /c/en/immigration_and_naturalization_service 0.7146718\n",
      "----------->ISA  /c/en/government_agency/n\n",
      "----------->ISA  /c/en/government_agency/n\n",
      "----------->PVR  /r/AtLocation /c/en/washington_d.c\n",
      "None\n"
     ]
    }
   ],
   "source": [
    "print(cskg_emb.query_for_concepts('george_washington', 10))"
   ]
  },
  {
   "cell_type": "code",
   "execution_count": null,
   "metadata": {},
   "outputs": [],
   "source": []
  }
 ],
 "metadata": {
  "accelerator": "GPU",
  "colab": {
   "name": "cskg_perturbations.ipynb",
   "provenance": [],
   "toc_visible": true
  },
  "gpuClass": "standard",
  "kernelspec": {
   "display_name": "Python 3 (ipykernel)",
   "language": "python",
   "name": "python3"
  },
  "language_info": {
   "codemirror_mode": {
    "name": "ipython",
    "version": 3
   },
   "file_extension": ".py",
   "mimetype": "text/x-python",
   "name": "python",
   "nbconvert_exporter": "python",
   "pygments_lexer": "ipython3",
   "version": "3.9.13"
  },
  "vscode": {
   "interpreter": {
    "hash": "f9f85f796d01129d0dd105a088854619f454435301f6ffec2fea96ecbd9be4ac"
   }
  }
 },
 "nbformat": 4,
 "nbformat_minor": 4
}
